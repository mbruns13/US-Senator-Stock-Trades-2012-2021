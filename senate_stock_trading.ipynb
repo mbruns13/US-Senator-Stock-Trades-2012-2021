{
 "cells": [
  {
   "cell_type": "code",
   "execution_count": 1,
   "id": "6d4e039b-ff4d-44b1-b4bd-a6edeb48b1b7",
   "metadata": {},
   "outputs": [],
   "source": [
    "import pandas as pd\n",
    "from datetime import datetime\n",
    "from splinter import Browser\n",
    "from bs4 import BeautifulSoup\n",
    "from webdriver_manager.chrome import ChromeDriverManager\n",
    "import time\n",
    "import requests, bs4\n",
    "import config\n",
    "from sqlalchemy import create_engine"
   ]
  },
  {
   "cell_type": "code",
   "execution_count": 2,
   "id": "15bc1ae2-2967-44d1-9b16-4852dedc390a",
   "metadata": {},
   "outputs": [],
   "source": [
    "# reading in txt file from https://doi.org/10.7910/DVN/XPDSYQ\n",
    "df = pd.read_csv('Stock_Trading_Data.txt', encoding='UTF-8')"
   ]
  },
  {
   "cell_type": "code",
   "execution_count": 3,
   "id": "d1fef916-6a83-4916-bec9-5c5f595705ac",
   "metadata": {},
   "outputs": [],
   "source": [
    "# reformatting trade amount column values as $x,xxx.xx\n",
    "df['trade_amount_max'] = df['trade_amount_max'].apply(lambda x: \"${:,.2f}\".format(x))\n",
    "df['trade_amount_min'] = df['trade_amount_min'].apply(lambda x: \"${:,.2f}\".format(x))"
   ]
  },
  {
   "cell_type": "code",
   "execution_count": 4,
   "id": "d4290f45-b3ae-47f9-bac4-7922fc7a7f18",
   "metadata": {},
   "outputs": [],
   "source": [
    "# drop rows that contain NaN values in the ticker column\n",
    "df = df.dropna(subset = [\"ticker\"])"
   ]
  },
  {
   "cell_type": "code",
   "execution_count": 5,
   "id": "d0b754c6-bcb2-4a1f-952e-15174d0fc5e4",
   "metadata": {},
   "outputs": [],
   "source": [
    "# some ticker values were listed as \"--\" rather than NaN - removing those corresponding rows as well\n",
    "df = df[df.ticker != \"--\"]"
   ]
  },
  {
   "cell_type": "code",
   "execution_count": 6,
   "id": "6dfa6568-6a86-4172-a71f-35d5fb42ba8b",
   "metadata": {},
   "outputs": [],
   "source": [
    "# create new column, combining min and max into a range\n",
    "df[\"min_max\"] = df[\"trade_amount_min\"] + \"-\" + df[\"trade_amount_max\"]"
   ]
  },
  {
   "cell_type": "code",
   "execution_count": 7,
   "id": "db1d05b5-3869-4e0b-a36a-9aff003756c8",
   "metadata": {
    "scrolled": true,
    "tags": []
   },
   "outputs": [
    {
     "name": "stderr",
     "output_type": "stream",
     "text": [
      "/var/folders/q2/5v2xmgf12v118bg1jrms5ph80000gn/T/ipykernel_64885/269104711.py:8: SettingWithCopyWarning: \n",
      "A value is trying to be set on a copy of a slice from a DataFrame\n",
      "\n",
      "See the caveats in the documentation: https://pandas.pydata.org/pandas-docs/stable/user_guide/indexing.html#returning-a-view-versus-a-copy\n",
      "  df['trade_date'][i] = datetime.strptime(date_full, date_format)\n"
     ]
    },
    {
     "ename": "KeyError",
     "evalue": "44",
     "output_type": "error",
     "traceback": [
      "\u001b[0;31m---------------------------------------------------------------------------\u001b[0m",
      "\u001b[0;31mKeyError\u001b[0m                                  Traceback (most recent call last)",
      "\u001b[0;32m~/opt/anaconda3/lib/python3.9/site-packages/pandas/core/indexes/base.py\u001b[0m in \u001b[0;36mget_loc\u001b[0;34m(self, key, method, tolerance)\u001b[0m\n\u001b[1;32m   3360\u001b[0m             \u001b[0;32mtry\u001b[0m\u001b[0;34m:\u001b[0m\u001b[0;34m\u001b[0m\u001b[0;34m\u001b[0m\u001b[0m\n\u001b[0;32m-> 3361\u001b[0;31m                 \u001b[0;32mreturn\u001b[0m \u001b[0mself\u001b[0m\u001b[0;34m.\u001b[0m\u001b[0m_engine\u001b[0m\u001b[0;34m.\u001b[0m\u001b[0mget_loc\u001b[0m\u001b[0;34m(\u001b[0m\u001b[0mcasted_key\u001b[0m\u001b[0;34m)\u001b[0m\u001b[0;34m\u001b[0m\u001b[0;34m\u001b[0m\u001b[0m\n\u001b[0m\u001b[1;32m   3362\u001b[0m             \u001b[0;32mexcept\u001b[0m \u001b[0mKeyError\u001b[0m \u001b[0;32mas\u001b[0m \u001b[0merr\u001b[0m\u001b[0;34m:\u001b[0m\u001b[0;34m\u001b[0m\u001b[0;34m\u001b[0m\u001b[0m\n",
      "\u001b[0;32m~/opt/anaconda3/lib/python3.9/site-packages/pandas/_libs/index.pyx\u001b[0m in \u001b[0;36mpandas._libs.index.IndexEngine.get_loc\u001b[0;34m()\u001b[0m\n",
      "\u001b[0;32m~/opt/anaconda3/lib/python3.9/site-packages/pandas/_libs/index.pyx\u001b[0m in \u001b[0;36mpandas._libs.index.IndexEngine.get_loc\u001b[0;34m()\u001b[0m\n",
      "\u001b[0;32mpandas/_libs/hashtable_class_helper.pxi\u001b[0m in \u001b[0;36mpandas._libs.hashtable.Int64HashTable.get_item\u001b[0;34m()\u001b[0m\n",
      "\u001b[0;32mpandas/_libs/hashtable_class_helper.pxi\u001b[0m in \u001b[0;36mpandas._libs.hashtable.Int64HashTable.get_item\u001b[0;34m()\u001b[0m\n",
      "\u001b[0;31mKeyError\u001b[0m: 44",
      "\nThe above exception was the direct cause of the following exception:\n",
      "\u001b[0;31mKeyError\u001b[0m                                  Traceback (most recent call last)",
      "\u001b[0;32m/var/folders/q2/5v2xmgf12v118bg1jrms5ph80000gn/T/ipykernel_64885/269104711.py\u001b[0m in \u001b[0;36m<module>\u001b[0;34m\u001b[0m\n\u001b[1;32m      1\u001b[0m \u001b[0;31m# reformatting values in the date column to datetime\u001b[0m\u001b[0;34m\u001b[0m\u001b[0;34m\u001b[0m\u001b[0m\n\u001b[1;32m      2\u001b[0m \u001b[0;32mfor\u001b[0m \u001b[0mi\u001b[0m \u001b[0;32min\u001b[0m \u001b[0mrange\u001b[0m\u001b[0;34m(\u001b[0m\u001b[0mlen\u001b[0m\u001b[0;34m(\u001b[0m\u001b[0mdf\u001b[0m\u001b[0;34m)\u001b[0m\u001b[0;34m)\u001b[0m\u001b[0;34m:\u001b[0m\u001b[0;34m\u001b[0m\u001b[0;34m\u001b[0m\u001b[0m\n\u001b[0;32m----> 3\u001b[0;31m     \u001b[0mday\u001b[0m \u001b[0;34m=\u001b[0m \u001b[0mdf\u001b[0m\u001b[0;34m[\u001b[0m\u001b[0;34m'trade_date'\u001b[0m\u001b[0;34m]\u001b[0m\u001b[0;34m[\u001b[0m\u001b[0mi\u001b[0m\u001b[0;34m]\u001b[0m\u001b[0;34m[\u001b[0m\u001b[0;34m:\u001b[0m\u001b[0;36m2\u001b[0m\u001b[0;34m]\u001b[0m\u001b[0;34m\u001b[0m\u001b[0;34m\u001b[0m\u001b[0m\n\u001b[0m\u001b[1;32m      4\u001b[0m     \u001b[0mmonth\u001b[0m \u001b[0;34m=\u001b[0m \u001b[0mdf\u001b[0m\u001b[0;34m[\u001b[0m\u001b[0;34m'trade_date'\u001b[0m\u001b[0;34m]\u001b[0m\u001b[0;34m[\u001b[0m\u001b[0mi\u001b[0m\u001b[0;34m]\u001b[0m\u001b[0;34m[\u001b[0m\u001b[0;36m2\u001b[0m\u001b[0;34m:\u001b[0m\u001b[0;36m5\u001b[0m\u001b[0;34m]\u001b[0m\u001b[0;34m\u001b[0m\u001b[0;34m\u001b[0m\u001b[0m\n\u001b[1;32m      5\u001b[0m     \u001b[0myear\u001b[0m \u001b[0;34m=\u001b[0m \u001b[0mdf\u001b[0m\u001b[0;34m[\u001b[0m\u001b[0;34m'trade_date'\u001b[0m\u001b[0;34m]\u001b[0m\u001b[0;34m[\u001b[0m\u001b[0mi\u001b[0m\u001b[0;34m]\u001b[0m\u001b[0;34m[\u001b[0m\u001b[0;36m5\u001b[0m\u001b[0;34m:\u001b[0m\u001b[0;34m]\u001b[0m\u001b[0;34m\u001b[0m\u001b[0;34m\u001b[0m\u001b[0m\n",
      "\u001b[0;32m~/opt/anaconda3/lib/python3.9/site-packages/pandas/core/series.py\u001b[0m in \u001b[0;36m__getitem__\u001b[0;34m(self, key)\u001b[0m\n\u001b[1;32m    940\u001b[0m \u001b[0;34m\u001b[0m\u001b[0m\n\u001b[1;32m    941\u001b[0m         \u001b[0;32melif\u001b[0m \u001b[0mkey_is_scalar\u001b[0m\u001b[0;34m:\u001b[0m\u001b[0;34m\u001b[0m\u001b[0;34m\u001b[0m\u001b[0m\n\u001b[0;32m--> 942\u001b[0;31m             \u001b[0;32mreturn\u001b[0m \u001b[0mself\u001b[0m\u001b[0;34m.\u001b[0m\u001b[0m_get_value\u001b[0m\u001b[0;34m(\u001b[0m\u001b[0mkey\u001b[0m\u001b[0;34m)\u001b[0m\u001b[0;34m\u001b[0m\u001b[0;34m\u001b[0m\u001b[0m\n\u001b[0m\u001b[1;32m    943\u001b[0m \u001b[0;34m\u001b[0m\u001b[0m\n\u001b[1;32m    944\u001b[0m         \u001b[0;32mif\u001b[0m \u001b[0mis_hashable\u001b[0m\u001b[0;34m(\u001b[0m\u001b[0mkey\u001b[0m\u001b[0;34m)\u001b[0m\u001b[0;34m:\u001b[0m\u001b[0;34m\u001b[0m\u001b[0;34m\u001b[0m\u001b[0m\n",
      "\u001b[0;32m~/opt/anaconda3/lib/python3.9/site-packages/pandas/core/series.py\u001b[0m in \u001b[0;36m_get_value\u001b[0;34m(self, label, takeable)\u001b[0m\n\u001b[1;32m   1049\u001b[0m \u001b[0;34m\u001b[0m\u001b[0m\n\u001b[1;32m   1050\u001b[0m         \u001b[0;31m# Similar to Index.get_value, but we do not fall back to positional\u001b[0m\u001b[0;34m\u001b[0m\u001b[0;34m\u001b[0m\u001b[0m\n\u001b[0;32m-> 1051\u001b[0;31m         \u001b[0mloc\u001b[0m \u001b[0;34m=\u001b[0m \u001b[0mself\u001b[0m\u001b[0;34m.\u001b[0m\u001b[0mindex\u001b[0m\u001b[0;34m.\u001b[0m\u001b[0mget_loc\u001b[0m\u001b[0;34m(\u001b[0m\u001b[0mlabel\u001b[0m\u001b[0;34m)\u001b[0m\u001b[0;34m\u001b[0m\u001b[0;34m\u001b[0m\u001b[0m\n\u001b[0m\u001b[1;32m   1052\u001b[0m         \u001b[0;32mreturn\u001b[0m \u001b[0mself\u001b[0m\u001b[0;34m.\u001b[0m\u001b[0mindex\u001b[0m\u001b[0;34m.\u001b[0m\u001b[0m_get_values_for_loc\u001b[0m\u001b[0;34m(\u001b[0m\u001b[0mself\u001b[0m\u001b[0;34m,\u001b[0m \u001b[0mloc\u001b[0m\u001b[0;34m,\u001b[0m \u001b[0mlabel\u001b[0m\u001b[0;34m)\u001b[0m\u001b[0;34m\u001b[0m\u001b[0;34m\u001b[0m\u001b[0m\n\u001b[1;32m   1053\u001b[0m \u001b[0;34m\u001b[0m\u001b[0m\n",
      "\u001b[0;32m~/opt/anaconda3/lib/python3.9/site-packages/pandas/core/indexes/base.py\u001b[0m in \u001b[0;36mget_loc\u001b[0;34m(self, key, method, tolerance)\u001b[0m\n\u001b[1;32m   3361\u001b[0m                 \u001b[0;32mreturn\u001b[0m \u001b[0mself\u001b[0m\u001b[0;34m.\u001b[0m\u001b[0m_engine\u001b[0m\u001b[0;34m.\u001b[0m\u001b[0mget_loc\u001b[0m\u001b[0;34m(\u001b[0m\u001b[0mcasted_key\u001b[0m\u001b[0;34m)\u001b[0m\u001b[0;34m\u001b[0m\u001b[0;34m\u001b[0m\u001b[0m\n\u001b[1;32m   3362\u001b[0m             \u001b[0;32mexcept\u001b[0m \u001b[0mKeyError\u001b[0m \u001b[0;32mas\u001b[0m \u001b[0merr\u001b[0m\u001b[0;34m:\u001b[0m\u001b[0;34m\u001b[0m\u001b[0;34m\u001b[0m\u001b[0m\n\u001b[0;32m-> 3363\u001b[0;31m                 \u001b[0;32mraise\u001b[0m \u001b[0mKeyError\u001b[0m\u001b[0;34m(\u001b[0m\u001b[0mkey\u001b[0m\u001b[0;34m)\u001b[0m \u001b[0;32mfrom\u001b[0m \u001b[0merr\u001b[0m\u001b[0;34m\u001b[0m\u001b[0;34m\u001b[0m\u001b[0m\n\u001b[0m\u001b[1;32m   3364\u001b[0m \u001b[0;34m\u001b[0m\u001b[0m\n\u001b[1;32m   3365\u001b[0m         \u001b[0;32mif\u001b[0m \u001b[0mis_scalar\u001b[0m\u001b[0;34m(\u001b[0m\u001b[0mkey\u001b[0m\u001b[0;34m)\u001b[0m \u001b[0;32mand\u001b[0m \u001b[0misna\u001b[0m\u001b[0;34m(\u001b[0m\u001b[0mkey\u001b[0m\u001b[0;34m)\u001b[0m \u001b[0;32mand\u001b[0m \u001b[0;32mnot\u001b[0m \u001b[0mself\u001b[0m\u001b[0;34m.\u001b[0m\u001b[0mhasnans\u001b[0m\u001b[0;34m:\u001b[0m\u001b[0;34m\u001b[0m\u001b[0;34m\u001b[0m\u001b[0m\n",
      "\u001b[0;31mKeyError\u001b[0m: 44"
     ]
    }
   ],
   "source": [
    "# reformatting values in the date column to datetime\n",
    "for i in range(len(df)):\n",
    "    day = df['trade_date'][i][:2]\n",
    "    month = df['trade_date'][i][2:5]\n",
    "    year = df['trade_date'][i][5:]\n",
    "    date_full = month + \"/\" + day + \"/\" + year\n",
    "    date_format = \"%b/%d/%Y\"\n",
    "    df['trade_date'][i] = datetime.strptime(date_full, date_format)"
   ]
  },
  {
   "cell_type": "code",
   "execution_count": 8,
   "id": "b3dafc0a-8284-4072-98cf-ce74d2f06ce3",
   "metadata": {},
   "outputs": [],
   "source": [
    "# reformatting values in the party column from binary to descriptive text\n",
    "for i in range(len(df)):\n",
    "    if df.iloc[i,1] == 0:\n",
    "        df.iloc[i,1] = \"Republican\"\n",
    "    elif df.iloc[i,1] == 1.0:\n",
    "        df.iloc[i,1] = \"Democrat\"\n",
    "    elif df.iloc[i,1] == 2.0:\n",
    "        df.iloc[i,1] = \"Independent\""
   ]
  },
  {
   "cell_type": "code",
   "execution_count": 9,
   "id": "6ed7cf4f-5db5-4faa-a7ba-f04d249cef43",
   "metadata": {},
   "outputs": [],
   "source": [
    "# reformatting values in the sex column from binary to descriptive text\n",
    "for i in range(len(df)):\n",
    "    if df.iloc[i,2] == 1:\n",
    "        df.iloc[i,2] = \"Male\"\n",
    "    elif df.iloc[i,2] == 0:\n",
    "        df.iloc[i,2] = \"Female\""
   ]
  },
  {
   "cell_type": "code",
   "execution_count": 10,
   "id": "32dc8961-8fa9-4e66-9884-b9148b89056d",
   "metadata": {},
   "outputs": [],
   "source": [
    "# add new, empty \"sector\" column to dataframe\n",
    "df[\"sector\"] = \"\""
   ]
  },
  {
   "cell_type": "code",
   "execution_count": 11,
   "id": "8d94615b-8157-4838-8a57-7cca2e212ffc",
   "metadata": {},
   "outputs": [],
   "source": [
    "# resetting the dataframe to only contain the columns we need\n",
    "df = df[[\n",
    "    \"senator\",\n",
    "    \"party\",\n",
    "    \"sex\",\n",
    "    \"trade_date\",\n",
    "    \"owner\",\n",
    "    \"ticker\",\n",
    "    \"sector\",\n",
    "    \"type\",\n",
    "    \"min_max\",\n",
    "    \"one_month_sell_compare\",\n",
    "    \"one_month_sell\",\n",
    "    \"one_mo_vtsax_change\",\n",
    "    \"buy_compare_one_year\",\n",
    "    \"buy_one_year_change\",\n",
    "    \"one_year_vtsax_change\"\n",
    "]]"
   ]
  },
  {
   "cell_type": "code",
   "execution_count": 12,
   "id": "f125df80-89ab-41b9-b2f4-c05f0504b921",
   "metadata": {},
   "outputs": [],
   "source": [
    "# renaming columns\n",
    "df = df.rename(columns={\n",
    "    \"trade_date\":\"dateoftrade\",\n",
    "    \"type\":\"transactiontype\",\n",
    "    \"min_max\":\"rangeoftransactionvalue\",\n",
    "    \"one_month_sell_compare\":\"stockvaluevsmarket1month\",\n",
    "    \"one_month_sell\":\"stockvaluechange1month\",\n",
    "    \"one_mo_vtsax_change\":\"marketchange1month\",\n",
    "    \"buy_compare_one_year\":\"stockvaluevsmarket1year\",\n",
    "    \"buy_one_year_change\":\"stockvaluechange1year\",\n",
    "    \"one_year_vtsax_change\":\"marketvaluechange1year\"\n",
    "})"
   ]
  },
  {
   "cell_type": "code",
   "execution_count": 13,
   "id": "8f096f6f-68e3-4ac6-8ca0-5ff459cb2ec6",
   "metadata": {},
   "outputs": [],
   "source": [
    "# creating a list of only the unique tickers from the dataframe\n",
    "unique_tickers = df[\"ticker\"].unique()"
   ]
  },
  {
   "cell_type": "code",
   "execution_count": 14,
   "id": "ae63256d-e029-49f1-b00d-be3340d544a1",
   "metadata": {},
   "outputs": [],
   "source": [
    "# creating an empty list to hold sector values\n",
    "sector_string = []\n",
    "# looping through the unique tickers to go to that company's Yahoo Finance profile page\n",
    "for ticker in unique_tickers:\n",
    "    url = f\"https://finance.yahoo.com/quote/{ticker}/profile?p={ticker}\"\n",
    "    headers = {\"User-Agent\":\"Mozilla/5.0\"}\n",
    "    response = requests.get(url, headers=headers)\n",
    "    soup = bs4.BeautifulSoup(response.text, 'lxml')\n",
    "    results = soup.find_all('p', class_='D(ib) Va(t)')\n",
    "    # if no sector value on the page (like for funds), append the string \"No sector\" to the sector_string list\n",
    "    if results == []:\n",
    "        sector_string.append(\"No sector\")\n",
    "    # if there is a sector value, scrape and append that text to the sector_string list\n",
    "    for result in results:\n",
    "        sector = result.find(\"span\", class_=\"Fw(600)\").text\n",
    "        sector_string.append(sector)"
   ]
  },
  {
   "cell_type": "code",
   "execution_count": 15,
   "id": "80e9b13b-a50a-4b43-8aad-661ba3411831",
   "metadata": {
    "tags": []
   },
   "outputs": [],
   "source": [
    "# create a dictionary using the unique ticker as the key and the sector information as the value\n",
    "ticker_sector_dict = {unique_tickers[i]: sector_string[i] for i in range(len(unique_tickers))}"
   ]
  },
  {
   "cell_type": "code",
   "execution_count": 16,
   "id": "456594e4-5b4a-486d-8f8b-4669c9eaa9e0",
   "metadata": {},
   "outputs": [
    {
     "data": {
      "text/html": [
       "<div>\n",
       "<style scoped>\n",
       "    .dataframe tbody tr th:only-of-type {\n",
       "        vertical-align: middle;\n",
       "    }\n",
       "\n",
       "    .dataframe tbody tr th {\n",
       "        vertical-align: top;\n",
       "    }\n",
       "\n",
       "    .dataframe thead th {\n",
       "        text-align: right;\n",
       "    }\n",
       "</style>\n",
       "<table border=\"1\" class=\"dataframe\">\n",
       "  <thead>\n",
       "    <tr style=\"text-align: right;\">\n",
       "      <th></th>\n",
       "      <th>senator</th>\n",
       "      <th>party</th>\n",
       "      <th>sex</th>\n",
       "      <th>dateoftrade</th>\n",
       "      <th>owner</th>\n",
       "      <th>ticker</th>\n",
       "      <th>sector</th>\n",
       "      <th>transactiontype</th>\n",
       "      <th>rangeoftransactionvalue</th>\n",
       "      <th>stockvaluevsmarket1month</th>\n",
       "      <th>stockvaluechange1month</th>\n",
       "      <th>marketchange1month</th>\n",
       "      <th>stockvaluevsmarket1year</th>\n",
       "      <th>stockvaluechange1year</th>\n",
       "      <th>marketvaluechange1year</th>\n",
       "    </tr>\n",
       "  </thead>\n",
       "  <tbody>\n",
       "    <tr>\n",
       "      <th>0</th>\n",
       "      <td>Thomas Carper</td>\n",
       "      <td>Democrat</td>\n",
       "      <td>Male</td>\n",
       "      <td>2021-01-29 00:00:00</td>\n",
       "      <td>Spouse</td>\n",
       "      <td>XCAPX</td>\n",
       "      <td>No sector</td>\n",
       "      <td>Purchase</td>\n",
       "      <td>$15,000.00-$50,000.00</td>\n",
       "      <td>NaN</td>\n",
       "      <td>NaN</td>\n",
       "      <td>0.031875</td>\n",
       "      <td>NaN</td>\n",
       "      <td>NaN</td>\n",
       "      <td>NaN</td>\n",
       "    </tr>\n",
       "    <tr>\n",
       "      <th>1</th>\n",
       "      <td>Patrick Toomey</td>\n",
       "      <td>Republican</td>\n",
       "      <td>Male</td>\n",
       "      <td>2021-01-28 00:00:00</td>\n",
       "      <td>Child</td>\n",
       "      <td>GME</td>\n",
       "      <td>Consumer Cyclical</td>\n",
       "      <td>Sale</td>\n",
       "      <td>$1,000.00-$15,000.00</td>\n",
       "      <td>-0.454702</td>\n",
       "      <td>-0.438378</td>\n",
       "      <td>0.016324</td>\n",
       "      <td>NaN</td>\n",
       "      <td>NaN</td>\n",
       "      <td>NaN</td>\n",
       "    </tr>\n",
       "    <tr>\n",
       "      <th>2</th>\n",
       "      <td>Jerry Moran</td>\n",
       "      <td>Republican</td>\n",
       "      <td>Male</td>\n",
       "      <td>2021-01-27 00:00:00</td>\n",
       "      <td>Spouse</td>\n",
       "      <td>COST</td>\n",
       "      <td>Consumer Defensive</td>\n",
       "      <td>Sale</td>\n",
       "      <td>$1,000.00-$15,000.00</td>\n",
       "      <td>-0.098641</td>\n",
       "      <td>-0.044025</td>\n",
       "      <td>0.054616</td>\n",
       "      <td>NaN</td>\n",
       "      <td>NaN</td>\n",
       "      <td>NaN</td>\n",
       "    </tr>\n",
       "    <tr>\n",
       "      <th>3</th>\n",
       "      <td>Jerry Moran</td>\n",
       "      <td>Republican</td>\n",
       "      <td>Male</td>\n",
       "      <td>2021-01-27 00:00:00</td>\n",
       "      <td>Self</td>\n",
       "      <td>COST</td>\n",
       "      <td>Consumer Defensive</td>\n",
       "      <td>Sale</td>\n",
       "      <td>$1,000.00-$15,000.00</td>\n",
       "      <td>-0.098641</td>\n",
       "      <td>-0.044025</td>\n",
       "      <td>0.054616</td>\n",
       "      <td>NaN</td>\n",
       "      <td>NaN</td>\n",
       "      <td>NaN</td>\n",
       "    </tr>\n",
       "    <tr>\n",
       "      <th>4</th>\n",
       "      <td>Patrick Toomey</td>\n",
       "      <td>Republican</td>\n",
       "      <td>Male</td>\n",
       "      <td>2021-01-27 00:00:00</td>\n",
       "      <td>Child</td>\n",
       "      <td>SHOP</td>\n",
       "      <td>Technology</td>\n",
       "      <td>Sale</td>\n",
       "      <td>$1,000.00-$15,000.00</td>\n",
       "      <td>0.136826</td>\n",
       "      <td>0.191442</td>\n",
       "      <td>0.054616</td>\n",
       "      <td>NaN</td>\n",
       "      <td>NaN</td>\n",
       "      <td>NaN</td>\n",
       "    </tr>\n",
       "  </tbody>\n",
       "</table>\n",
       "</div>"
      ],
      "text/plain": [
       "          senator       party   sex          dateoftrade   owner ticker  \\\n",
       "0   Thomas Carper    Democrat  Male  2021-01-29 00:00:00  Spouse  XCAPX   \n",
       "1  Patrick Toomey  Republican  Male  2021-01-28 00:00:00   Child    GME   \n",
       "2     Jerry Moran  Republican  Male  2021-01-27 00:00:00  Spouse   COST   \n",
       "3     Jerry Moran  Republican  Male  2021-01-27 00:00:00    Self   COST   \n",
       "4  Patrick Toomey  Republican  Male  2021-01-27 00:00:00   Child   SHOP   \n",
       "\n",
       "               sector transactiontype rangeoftransactionvalue  \\\n",
       "0           No sector        Purchase   $15,000.00-$50,000.00   \n",
       "1   Consumer Cyclical            Sale    $1,000.00-$15,000.00   \n",
       "2  Consumer Defensive            Sale    $1,000.00-$15,000.00   \n",
       "3  Consumer Defensive            Sale    $1,000.00-$15,000.00   \n",
       "4          Technology            Sale    $1,000.00-$15,000.00   \n",
       "\n",
       "   stockvaluevsmarket1month  stockvaluechange1month  marketchange1month  \\\n",
       "0                       NaN                     NaN            0.031875   \n",
       "1                 -0.454702               -0.438378            0.016324   \n",
       "2                 -0.098641               -0.044025            0.054616   \n",
       "3                 -0.098641               -0.044025            0.054616   \n",
       "4                  0.136826                0.191442            0.054616   \n",
       "\n",
       "   stockvaluevsmarket1year  stockvaluechange1year  marketvaluechange1year  \n",
       "0                      NaN                    NaN                     NaN  \n",
       "1                      NaN                    NaN                     NaN  \n",
       "2                      NaN                    NaN                     NaN  \n",
       "3                      NaN                    NaN                     NaN  \n",
       "4                      NaN                    NaN                     NaN  "
      ]
     },
     "execution_count": 16,
     "metadata": {},
     "output_type": "execute_result"
    }
   ],
   "source": [
    "# using the dictionary created above to append the correct sector information in each row\n",
    "ticker_list = df[\"ticker\"].tolist()\n",
    "sector_list = []\n",
    "for i in range(len(ticker_list)):\n",
    "    for key in ticker_sector_dict:\n",
    "        if ticker_list[i] == key:\n",
    "            sector_list.append(ticker_sector_dict[key])\n",
    "df[\"sector\"] = sector_list\n",
    "df.head()"
   ]
  },
  {
   "cell_type": "code",
   "execution_count": 17,
   "id": "e3c4ac8d-5558-4cfc-b995-98019c86e005",
   "metadata": {},
   "outputs": [],
   "source": [
    "# !Must create seantors_db database before running this!\n",
    "# Structure the database url from the config.py file and create the database engine\n",
    "url = f'{config.user}:{config.password}@{config.hostname}:{config.port}/senatortrades_db'\n",
    "engine = create_engine(f'postgresql://{url}', pool_pre_ping=True)"
   ]
  },
  {
   "cell_type": "code",
   "execution_count": 18,
   "id": "bd307a99-c6ba-47b3-aff1-2b58c6f78d90",
   "metadata": {},
   "outputs": [
    {
     "name": "stderr",
     "output_type": "stream",
     "text": [
      "/var/folders/q2/5v2xmgf12v118bg1jrms5ph80000gn/T/ipykernel_64885/1597022047.py:2: SADeprecationWarning: The Engine.table_names() method is deprecated and will be removed in a future release.  Please refer to Inspector.get_table_names(). (deprecated since: 1.4)\n",
      "  engine.table_names()\n"
     ]
    },
    {
     "data": {
      "text/plain": [
       "['trades']"
      ]
     },
     "execution_count": 18,
     "metadata": {},
     "output_type": "execute_result"
    }
   ],
   "source": [
    "# After running schema.sql in your senators_db, check that the table exists\n",
    "engine.table_names()"
   ]
  },
  {
   "cell_type": "code",
   "execution_count": null,
   "id": "088df453-14f4-4e02-a70b-24a12f3eed8d",
   "metadata": {},
   "outputs": [],
   "source": [
    "# Load the DataFrame to the database\n",
    "df.to_sql(name='trades', con=engine, if_exists='append', index=False)"
   ]
  },
  {
   "cell_type": "code",
   "execution_count": null,
   "id": "e0995d1d-e93b-4d76-8288-7277ed433137",
   "metadata": {},
   "outputs": [],
   "source": []
  }
 ],
 "metadata": {
  "kernelspec": {
   "display_name": "Python 3 (ipykernel)",
   "language": "python",
   "name": "python3"
  },
  "language_info": {
   "codemirror_mode": {
    "name": "ipython",
    "version": 3
   },
   "file_extension": ".py",
   "mimetype": "text/x-python",
   "name": "python",
   "nbconvert_exporter": "python",
   "pygments_lexer": "ipython3",
   "version": "3.9.7"
  }
 },
 "nbformat": 4,
 "nbformat_minor": 5
}
